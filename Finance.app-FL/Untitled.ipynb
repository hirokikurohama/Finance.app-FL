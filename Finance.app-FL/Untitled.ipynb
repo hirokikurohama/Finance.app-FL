{
 "cells": [
  {
   "cell_type": "code",
   "execution_count": 44,
   "id": "9a72bd8a-c37a-4535-9598-62ace78cfa3f",
   "metadata": {},
   "outputs": [
    {
     "name": "stdout",
     "output_type": "stream",
     "text": [
      "{1, 2, 3, 4, 5}\n",
      "[1, 4, 2, 5, 3]\n",
      "(2, 1, 5, 3, 4)\n"
     ]
    }
   ],
   "source": [
    "set = {1,3,2,5,4}\n",
    "list = [1,4,2,5,3]\n",
    "tuple = (2,1,5,3,4) #()はオマケ\n",
    "print(set)\n",
    "print(list)\n",
    "print(tuple)"
   ]
  },
  {
   "cell_type": "code",
   "execution_count": 45,
   "id": "d0d19c97-d4ff-43bb-b949-06ad7c85b442",
   "metadata": {},
   "outputs": [],
   "source": [
    "set.add(6)\n",
    "list.append(6)\n",
    "#tuple.append(6) #tupple はBOX内固定"
   ]
  },
  {
   "cell_type": "code",
   "execution_count": 46,
   "id": "de461fde-9bb1-4808-ba27-eeedad3ca031",
   "metadata": {},
   "outputs": [
    {
     "name": "stdout",
     "output_type": "stream",
     "text": [
      "{1, 2, 3, 4, 5, 6} \n",
      " [1, 4, 2, 5, 3, 6]\n"
     ]
    }
   ],
   "source": [
    "print(set, '\\n',list)"
   ]
  },
  {
   "cell_type": "code",
   "execution_count": 47,
   "id": "f484fd5e-6ebc-46f3-aaa3-7c7d69af119e",
   "metadata": {},
   "outputs": [],
   "source": [
    "num = 6\n",
    "calclatedList = [i + num for i in list]"
   ]
  },
  {
   "cell_type": "code",
   "execution_count": 48,
   "id": "ff369997-ed20-4a9d-8b41-acf126aa7820",
   "metadata": {},
   "outputs": [
    {
     "name": "stdout",
     "output_type": "stream",
     "text": [
      "[7, 10, 8, 11, 9, 12]\n"
     ]
    }
   ],
   "source": [
    "print(calclatedList)"
   ]
  },
  {
   "cell_type": "code",
   "execution_count": 49,
   "id": "5dbcb246-dce7-4470-be04-147e24451303",
   "metadata": {},
   "outputs": [],
   "source": [
    "a = 1,2,3\n",
    "b = [2,1,3]\n",
    "aset = {a}\n",
    "atuple = (a)"
   ]
  },
  {
   "cell_type": "code",
   "execution_count": 76,
   "id": "10105ccd-d8f0-4c6a-8b82-9b62bf54389c",
   "metadata": {},
   "outputs": [],
   "source": [
    "list.append(3)"
   ]
  },
  {
   "cell_type": "code",
   "execution_count": 77,
   "id": "473eda09-195f-45cb-859c-c3be408e9f2f",
   "metadata": {},
   "outputs": [
    {
     "name": "stdout",
     "output_type": "stream",
     "text": [
      "[1, 2, 3, 4, 5, 6, 3]\n"
     ]
    }
   ],
   "source": [
    "print(list)"
   ]
  },
  {
   "cell_type": "code",
   "execution_count": 78,
   "id": "b447f1e2-36ec-40b0-853d-c8b9fcb7f477",
   "metadata": {},
   "outputs": [],
   "source": [
    "set.add(6)"
   ]
  },
  {
   "cell_type": "code",
   "execution_count": 79,
   "id": "ba899cf1-e0f4-415f-b0c7-f524ad409494",
   "metadata": {},
   "outputs": [
    {
     "name": "stdout",
     "output_type": "stream",
     "text": [
      "{1, 2, 3, 4, 5, 6}\n"
     ]
    }
   ],
   "source": [
    "print(set)"
   ]
  },
  {
   "cell_type": "code",
   "execution_count": 80,
   "id": "b61a7f2d-581c-4df9-a255-3053dd276175",
   "metadata": {},
   "outputs": [],
   "source": [
    "list = [*set]"
   ]
  },
  {
   "cell_type": "code",
   "execution_count": 81,
   "id": "e6a8133d-fc4b-496e-91bc-8beaa338b579",
   "metadata": {},
   "outputs": [
    {
     "data": {
      "text/plain": [
       "[1, 2, 3, 4, 5, 6]"
      ]
     },
     "execution_count": 81,
     "metadata": {},
     "output_type": "execute_result"
    }
   ],
   "source": [
    "list"
   ]
  },
  {
   "cell_type": "code",
   "execution_count": 82,
   "id": "9dd391f1-f03c-42a6-9012-9a7ca3e701d9",
   "metadata": {},
   "outputs": [
    {
     "ename": "IndexError",
     "evalue": "list index out of range",
     "output_type": "error",
     "traceback": [
      "\u001b[1;31m---------------------------------------------------------------------------\u001b[0m",
      "\u001b[1;31mIndexError\u001b[0m                                Traceback (most recent call last)",
      "Input \u001b[1;32mIn [82]\u001b[0m, in \u001b[0;36m<cell line: 2>\u001b[1;34m()\u001b[0m\n\u001b[0;32m      1\u001b[0m random \u001b[38;5;241m=\u001b[39m [\u001b[38;5;241m4\u001b[39m, \u001b[38;5;241m6\u001b[39m, \u001b[38;5;241m2\u001b[39m, \u001b[38;5;241m5\u001b[39m, \u001b[38;5;241m1\u001b[39m, \u001b[38;5;241m3\u001b[39m, \u001b[38;5;241m8\u001b[39m, \u001b[38;5;241m6\u001b[39m, \u001b[38;5;241m4\u001b[39m]\n\u001b[0;32m      2\u001b[0m \u001b[38;5;28;01mfor\u001b[39;00m i \u001b[38;5;129;01min\u001b[39;00m random:\n\u001b[1;32m----> 3\u001b[0m     \u001b[38;5;28;01mif\u001b[39;00m random[i] \u001b[38;5;241m==\u001b[39m \u001b[43mrandom\u001b[49m\u001b[43m[\u001b[49m\u001b[43mi\u001b[49m\u001b[38;5;241;43m+\u001b[39;49m\u001b[38;5;241;43m1\u001b[39;49m\u001b[43m]\u001b[49m:\n\u001b[0;32m      4\u001b[0m         \u001b[38;5;28mprint\u001b[39m(i)\n",
      "\u001b[1;31mIndexError\u001b[0m: list index out of range"
     ]
    }
   ],
   "source": [
    "random = [4, 6, 2, 5, 1, 3, 8, 6, 4]\n",
    "for i in random:\n",
    "    if random[i] == random[i+1]:\n",
    "        print(i)\n",
    "        "
   ]
  },
  {
   "cell_type": "code",
   "execution_count": null,
   "id": "af7232e8-e530-41fb-8ca0-3ec6a09252bd",
   "metadata": {},
   "outputs": [],
   "source": []
  }
 ],
 "metadata": {
  "kernelspec": {
   "display_name": "Python 3 (ipykernel)",
   "language": "python",
   "name": "python3"
  },
  "language_info": {
   "codemirror_mode": {
    "name": "ipython",
    "version": 3
   },
   "file_extension": ".py",
   "mimetype": "text/x-python",
   "name": "python",
   "nbconvert_exporter": "python",
   "pygments_lexer": "ipython3",
   "version": "3.9.12"
  }
 },
 "nbformat": 4,
 "nbformat_minor": 5
}
